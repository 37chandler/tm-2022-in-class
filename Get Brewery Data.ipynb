{
 "cells": [
  {
   "cell_type": "markdown",
   "id": "6848450e",
   "metadata": {},
   "source": [
    "## Gathering Brewery Data\n",
    "\n",
    "This notebook uses the Open Brewery DB to get lists of breweries and store that data on GBQ. "
   ]
  },
  {
   "cell_type": "code",
   "execution_count": null,
   "id": "d0a4d28b",
   "metadata": {},
   "outputs": [],
   "source": [
    "import os\n",
    "import re\n",
    "import datetime \n",
    "from collections import Counter\n",
    "import requests\n",
    "import time\n",
    "\n",
    "import pandas as pd\n",
    "import numpy as np\n",
    "import pandas_gbq\n",
    "import janitor\n",
    "\n",
    "# Do our imports for the code\n",
    "from google.cloud import bigquery\n",
    "from google.oauth2 import service_account"
   ]
  },
  {
   "cell_type": "markdown",
   "id": "d4cc5a5c",
   "metadata": {},
   "source": [
    "### GBQ Set Up\n",
    "\n",
    "In this next section we connect to our GBQ project and list the data sets inside to test the connection."
   ]
  },
  {
   "cell_type": "code",
   "execution_count": null,
   "id": "e8be6f94",
   "metadata": {},
   "outputs": [],
   "source": [
    "# These first two values will be different on your machine. \n",
    "service_path = \"/Users/chandler/Dropbox/Teaching/\"\n",
    "service_file = 'umt-msba-037daf11ee16.json' # change this to your authentication information  \n",
    "gbq_proj_id = 'umt-msba' # change this to your project. \n",
    "\n",
    "# And this should stay the same. \n",
    "private_key =service_path + service_file\n",
    "\n",
    "# Now we pass in our credentials so that Python has permission to access our project.\n",
    "credentials = service_account.Credentials.from_service_account_file(service_path + service_file)\n",
    "\n",
    "# And finally we establish our connection\n",
    "client = bigquery.Client(credentials = credentials, project=gbq_proj_id)\n",
    "\n",
    "for item in client.list_datasets() : \n",
    "    print(item.full_dataset_id)"
   ]
  },
  {
   "cell_type": "code",
   "execution_count": null,
   "id": "c6e3fdbe",
   "metadata": {},
   "outputs": [],
   "source": [
    "api_url = 'https://api.openbrewerydb.org/breweries'"
   ]
  },
  {
   "cell_type": "code",
   "execution_count": null,
   "id": "ae0ccc8d",
   "metadata": {},
   "outputs": [],
   "source": [
    "iteration = 1\n",
    "\n",
    "params = {'per_page':20}\n",
    "\n",
    "while True : \n",
    "    r = requests.get(api_url,params=params)\n",
    "    \n",
    "    if r.status_code != 200 : \n",
    "        print(f'Hit a status code of {r.status_code} on page {iteration}. Sleeping for 60 seconds.')\n",
    "        time.sleep(60)\n",
    "        r = requests.get(api_url,params=params)\n",
    "        \n",
    "        \n",
    "    \n",
    "    call_results = pd.DataFrame.from_dict(r.json())\n",
    "    \n",
    "    if iteration == 1 : \n",
    "        breweries = call_results\n",
    "    else : \n",
    "        breweries = pd.concat([breweries,\n",
    "                               call_results])\n",
    "    \n",
    "\n",
    "    if iteration % 50 == 0 : \n",
    "        print(f'We have done {iteration} iterations. Sleeping for 30 seconds.')\n",
    "        time.sleep(30)\n",
    "    \n",
    "    if call_results.shape[0] < 20 : \n",
    "        break\n",
    "\n",
    "    iteration += 1\n",
    "    params['page'] = iteration\n",
    "    \n",
    "    print(f\"The total size of the breweries table is {breweries.shape[0]}\")\n",
    "    \n",
    "    if iteration > 1000 : \n",
    "        break\n",
    "    \n"
   ]
  },
  {
   "cell_type": "code",
   "execution_count": null,
   "id": "8a32dadb",
   "metadata": {},
   "outputs": [],
   "source": [
    "breweries.to_csv(\"brewery_data.txt\",sep=\"\\t\")"
   ]
  },
  {
   "cell_type": "code",
   "execution_count": null,
   "id": "9d0da46e",
   "metadata": {},
   "outputs": [],
   "source": [
    "pandas_gbq.to_gbq(breweries, \"umt-msba.dram_shop.brewery_data\", project_id=gbq_proj_id,if_exists=\"replace\")"
   ]
  }
 ],
 "metadata": {
  "kernelspec": {
   "display_name": "Python 3 (ipykernel)",
   "language": "python",
   "name": "python3"
  },
  "language_info": {
   "codemirror_mode": {
    "name": "ipython",
    "version": 3
   },
   "file_extension": ".py",
   "mimetype": "text/x-python",
   "name": "python",
   "nbconvert_exporter": "python",
   "pygments_lexer": "ipython3",
   "version": "3.8.8"
  }
 },
 "nbformat": 4,
 "nbformat_minor": 5
}
