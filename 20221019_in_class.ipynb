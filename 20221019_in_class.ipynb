{
 "cells": [
  {
   "cell_type": "code",
   "execution_count": null,
   "id": "6703bf5b",
   "metadata": {},
   "outputs": [],
   "source": []
  },
  {
   "cell_type": "code",
   "execution_count": null,
   "id": "30a511a8",
   "metadata": {},
   "outputs": [],
   "source": [
    "import sqlite3\n",
    "from collections import defaultdict"
   ]
  },
  {
   "cell_type": "code",
   "execution_count": null,
   "id": "ce467acb",
   "metadata": {},
   "outputs": [],
   "source": [
    "tweets = []\n",
    "\n",
    "with open(\"vaping_tweets.csv\") as tweet_file :\n",
    "    tweets = [tweet.strip() for tweet in tweet_file.readlines()]"
   ]
  },
  {
   "cell_type": "code",
   "execution_count": null,
   "id": "385744fb",
   "metadata": {},
   "outputs": [],
   "source": [
    "school_tweets = [t for t in tweets if \"school\" in t]\n",
    "non_school_tweets = [t for t in tweets if \"school\" not in t]\n",
    "\n"
   ]
  },
  {
   "cell_type": "code",
   "execution_count": null,
   "id": "52c2b559",
   "metadata": {},
   "outputs": [],
   "source": [
    "len(school_tweets)"
   ]
  },
  {
   "cell_type": "code",
   "execution_count": null,
   "id": "a671e7cd",
   "metadata": {},
   "outputs": [],
   "source": [
    "len(non_school_tweets)"
   ]
  },
  {
   "cell_type": "markdown",
   "id": "9d2dce92",
   "metadata": {},
   "source": [
    "Or, alternatively, we could work with the convention data. "
   ]
  },
  {
   "cell_type": "code",
   "execution_count": null,
   "id": "1544532c",
   "metadata": {},
   "outputs": [],
   "source": [
    "db = sqlite3.connect(\"ConventionSpeeches.db\")\n",
    "cur = db.cursor()"
   ]
  },
  {
   "cell_type": "code",
   "execution_count": null,
   "id": "42cfbeda",
   "metadata": {},
   "outputs": [],
   "source": [
    "cur.execute(\"SELECT party, text FROM conventions WHERE year IN (2016,2020)\")"
   ]
  },
  {
   "cell_type": "code",
   "execution_count": null,
   "id": "98960984",
   "metadata": {},
   "outputs": [],
   "source": [
    "convention_speeches = defaultdict(str)\n",
    "\n",
    "for row in cur.fetchall() :\n",
    "    party, text = row \n",
    "    convention_speeches[party] += text + \" \"\n"
   ]
  },
  {
   "cell_type": "code",
   "execution_count": null,
   "id": "ba24752e",
   "metadata": {},
   "outputs": [],
   "source": [
    "print(len(convention_speeches['Republican'].split()))\n",
    "print(len(convention_speeches['Democratic'].split()))"
   ]
  },
  {
   "cell_type": "code",
   "execution_count": null,
   "id": "bfd28c1e",
   "metadata": {},
   "outputs": [],
   "source": []
  }
 ],
 "metadata": {
  "kernelspec": {
   "display_name": "Python 3 (ipykernel)",
   "language": "python",
   "name": "python3"
  },
  "language_info": {
   "codemirror_mode": {
    "name": "ipython",
    "version": 3
   },
   "file_extension": ".py",
   "mimetype": "text/x-python",
   "name": "python",
   "nbconvert_exporter": "python",
   "pygments_lexer": "ipython3",
   "version": "3.8.8"
  }
 },
 "nbformat": 4,
 "nbformat_minor": 5
}
